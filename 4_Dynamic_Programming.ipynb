{
 "cells": [
  {
   "cell_type": "markdown",
   "metadata": {},
   "source": [
    "# Dynamic Programming\n",
    "\n",
    "Using dynamic programming we can solve the RL problem when all environment dynamics are known and we have a finite state set."
   ]
  },
  {
   "cell_type": "markdown",
   "metadata": {},
   "source": [
    "Any environment that our agent can explore needs to be described using a subclass of `Environment`. This allows us to implement a single DP algorithm once for all problems. We can then solve the individual problems by describing them using the methods from `Environment`."
   ]
  },
  {
   "cell_type": "code",
   "execution_count": 1,
   "metadata": {
    "collapsed": false
   },
   "outputs": [],
   "source": [
    "class Environment:\n",
    "    def get_states(self):\n",
    "        \"\"\"\n",
    "        Return the set of possible states\n",
    "        \"\"\"\n",
    "        pass\n",
    "    \n",
    "    def get_possible_actions(self, state):\n",
    "        \"\"\"\n",
    "        Returns the actions that can be taken from the given state\n",
    "        \"\"\"\n",
    "        pass\n",
    "    \n",
    "    def get_state_actions(self, state, action):\n",
    "        \"\"\"\n",
    "        Return a list of (probability, new_state, reward) tuples for the\n",
    "        given state and action\n",
    "        \"\"\"\n",
    "        pass"
   ]
  },
  {
   "cell_type": "markdown",
   "metadata": {},
   "source": [
    "`DPAgent` can find a perfect policy given an `Environment`. It works using value iteration. Initially, a random policy is generated. After that, each time `agent.learn()` is executed, we perform:\n",
    "\n",
    "* policy evaluation: The value for each state is updated, by using the values of neighbouring states\n",
    "* policy improvement: For each state we choose all actions that maximize the expected value"
   ]
  },
  {
   "cell_type": "code",
   "execution_count": 6,
   "metadata": {
    "collapsed": true
   },
   "outputs": [],
   "source": [
    "from random import sample\n",
    "from operator import itemgetter\n",
    "\n",
    "class DPAgent:\n",
    "    def __init__(self, env, discount_factor=1):\n",
    "        self.env = env\n",
    "        self.discount_factor = discount_factor\n",
    "        \n",
    "        states = self.states = env.get_states()\n",
    "        self.values = { state: 0 for state in states }\n",
    "        self.policy = { state: self._random_action_init(state) for state in states }\n",
    "    \n",
    "    def _random_action_init(self, state):\n",
    "        possible_actions = self.env.get_possible_actions(state)\n",
    "        \n",
    "        if len(possible_actions) == 0:\n",
    "            return set()\n",
    "        else:\n",
    "            return set(sample(possible_actions, 1))\n",
    "        \n",
    "    def learn(self, evaluate=1):\n",
    "        for _ in range(evaluate):\n",
    "            self._evaluate_policy()\n",
    "            \n",
    "        self._improve_policy()\n",
    "        \n",
    "    def _evaluate_policy(self):\n",
    "        values = self.values.copy()\n",
    "        \n",
    "        for state in self.states:\n",
    "            value = self.values[state]\n",
    "            actions = self.policy[state]\n",
    "            change = 0.\n",
    "            \n",
    "            for action in actions:\n",
    "                for prob, new_state, reward in self.env.get_state_actions(state, action):\n",
    "                    next_value = self.values[new_state]\n",
    "                    change += prob * (reward + self.discount_factor * next_value)\n",
    "            \n",
    "            values[state] = change / len(actions)\n",
    "\n",
    "        self.values = values\n",
    "    \n",
    "    def _improve_policy(self):\n",
    "        for state in self.states:\n",
    "            action = self.policy[state]\n",
    "            possible_actions = {}\n",
    "\n",
    "            for possible_action in self.env.get_possible_actions(state):\n",
    "                action_value = 0\n",
    "                \n",
    "                for prob, new_state, reward in self.env.get_state_actions(state, possible_action):\n",
    "                    value = self.values[new_state]\n",
    "                    action_value += prob * (reward + self.discount_factor * value)\n",
    "                \n",
    "                possible_actions[possible_action] = action_value\n",
    "            \n",
    "            max_value = max(possible_actions.values())            \n",
    "            self.policy[state] = set([action for action, value in possible_actions.items() if value == max_value])"
   ]
  },
  {
   "cell_type": "markdown",
   "metadata": {},
   "source": [
    "## GridWorld\n",
    "\n",
    "GridWorld is on of the standard examples for dynamic programming. Our agent can move in a 2d matrix. The rewards are defined in a matrix of the same size. There environment is totally deterministic."
   ]
  },
  {
   "cell_type": "code",
   "execution_count": 7,
   "metadata": {
    "collapsed": true
   },
   "outputs": [],
   "source": [
    "from itertools import product\n",
    "import numpy as np\n",
    "\n",
    "class GridWorld(Environment):\n",
    "    def __init__(self, reward_matrix):\n",
    "        self.reward_matrix = reward_matrix\n",
    "        \n",
    "        n, m = reward_matrix.shape\n",
    "        self.states = list(product(range(n), range(m)))\n",
    "        \n",
    "        self.max_down = n - 1\n",
    "        self.max_right = m - 1\n",
    "        \n",
    "        self._init_actions()\n",
    "        \n",
    "    def _init_actions(self):\n",
    "        self.UP = \"U\"\n",
    "        self.DOWN = \"D\"\n",
    "        self.LEFT = \"L\"\n",
    "        self.RIGHT = \"R\"\n",
    "        \n",
    "        self.actions = [self.UP, self.DOWN, self.LEFT, self.RIGHT]\n",
    "        \n",
    "    def get_states(self):\n",
    "        return self.states\n",
    "    \n",
    "    def get_possible_actions(self, state):\n",
    "        i, j = state\n",
    "        \n",
    "        actions = []\n",
    "        \n",
    "        if i > 0:\n",
    "            actions.append(self.UP)\n",
    "            \n",
    "        if i < self.max_down:\n",
    "            actions.append(self.DOWN)\n",
    "        \n",
    "        if j > 0:\n",
    "            actions.append(self.LEFT)\n",
    "        \n",
    "        if j < self.max_right:\n",
    "            actions.append(self.RIGHT)\n",
    "            \n",
    "        return actions\n",
    "    \n",
    "    def get_state_actions(self, state, action):\n",
    "        reward = self.reward_matrix[state]\n",
    "        new_state = self._get_next_state(state, action)\n",
    "        \n",
    "        return [(1, new_state, reward)]\n",
    "    \n",
    "    def _get_next_state(self, state, action):\n",
    "        i, j = state        \n",
    "        \n",
    "        if action == self.UP:\n",
    "            i -= 1\n",
    "            \n",
    "        if action == self.DOWN:\n",
    "            i += 1\n",
    "            \n",
    "        if action == self.LEFT:\n",
    "            j -= 1\n",
    "            \n",
    "        if action == self.RIGHT:\n",
    "            j += 1\n",
    "            \n",
    "        i = max(0, min(i, self.max_down))\n",
    "        j = max(0, min(j, self.max_right))\n",
    "        \n",
    "        return i, j"
   ]
  },
  {
   "cell_type": "markdown",
   "metadata": {},
   "source": [
    "Some helper functions for visualizing the policy/values/rewards of GridWorld."
   ]
  },
  {
   "cell_type": "code",
   "execution_count": 19,
   "metadata": {
    "collapsed": false
   },
   "outputs": [],
   "source": [
    "def draw_policy(agent, n, m):\n",
    "    lookup = {\n",
    "        \"U\": u\"↑\",\n",
    "        \"D\": u\"↓\",\n",
    "        \"L\": u\"←\",\n",
    "        \"R\": u\"→\"\n",
    "    }\n",
    "    \n",
    "    vals = sorted(agent.policy.items())\n",
    "    actions = [\"\".join([lookup[act] for act in val]) for _, val in vals]\n",
    "    \n",
    "    print \"Policy\"\n",
    "    draw_matrix(np.array(actions).reshape((n, m)))\n",
    "    print\n",
    "\n",
    "def draw_values(agent, n, m):\n",
    "    vals = sorted(agent.values.items())\n",
    "    vals = [\"%.2f\" % val for _, val in vals]\n",
    "    \n",
    "    print \"Values\"\n",
    "    draw_matrix(np.array(vals).reshape((n, m)))\n",
    "    print\n",
    "    \n",
    "from math import ceil, floor\n",
    "\n",
    "def lrjust(s, size):\n",
    "    missing = size - len(s)\n",
    "    \n",
    "    if missing > 0:\n",
    "        left = int(ceil(missing / 2.))\n",
    "        right = int(floor(missing / 2.))\n",
    "        s = \" \" * left + s + \" \" * right\n",
    "    \n",
    "    return s\n",
    "\n",
    "def draw_matrix(data):    \n",
    "    result = \"\"\n",
    "    rows = []\n",
    "    \n",
    "    for row in data:\n",
    "        row_result = []\n",
    "        \n",
    "        for cell in row:\n",
    "            row_result.append(lrjust(\"%s\" % cell, 6))\n",
    "            \n",
    "        rows.append(\"|\".join(row_result))\n",
    "        \n",
    "    print (\"\\n\" + \"-\" * len(rows[0]) + \"\\n\").join(rows)"
   ]
  },
  {
   "cell_type": "markdown",
   "metadata": {},
   "source": [
    "### Test cases\n",
    "\n",
    "In this simple test there's only one cell with a reward, so what we're really looking for is the shortest path to that cell.\n",
    "\n",
    "If a cell of the policy matrix contains several action, then this means that we can take any of them."
   ]
  },
  {
   "cell_type": "code",
   "execution_count": 9,
   "metadata": {
    "collapsed": false
   },
   "outputs": [
    {
     "name": "stdout",
     "output_type": "stream",
     "text": [
      "Reward\n",
      "   0  |   0  |   0  |   0  \n",
      "---------------------------\n",
      "   0  |   0  |   1  |   0  \n",
      "---------------------------\n",
      "   0  |   0  |   0  |   0  \n",
      "\n",
      "Policy\n",
      "  →↓  |  →↓  |   ↓  |  ↓←  \n",
      "---------------------------\n",
      "   →  |   →  | →↑↓← |   ←  \n",
      "---------------------------\n",
      "  →↑  |  →↑  |   ↑  |  ↑←  \n",
      "\n",
      "Values\n",
      " 0.17 | 0.33 | 0.67 | 0.33 \n",
      "---------------------------\n",
      " 0.33 | 0.67 | 1.33 | 0.67 \n",
      "---------------------------\n",
      " 0.17 | 0.33 | 0.67 | 0.33 \n",
      "\n"
     ]
    }
   ],
   "source": [
    "R = np.array([\n",
    "        [0, 0, 0, 0],\n",
    "        [0, 0, 1, 0],\n",
    "        [0, 0, 0, 0]\n",
    "    ])\n",
    "\n",
    "print \"Reward\"\n",
    "draw_matrix(R)\n",
    "print\n",
    "\n",
    "grid_world = GridWorld(R)\n",
    "agent = DPAgent(grid_world, discount_factor=0.5)\n",
    "\n",
    "for k in range(10):\n",
    "    agent.learn()\n",
    "    \n",
    "draw_policy(agent, 3, 4)\n",
    "draw_values(agent, 3, 4)"
   ]
  },
  {
   "cell_type": "markdown",
   "metadata": {},
   "source": [
    "In this new test case there's a single path without penalties to a reward."
   ]
  },
  {
   "cell_type": "code",
   "execution_count": 10,
   "metadata": {
    "collapsed": false
   },
   "outputs": [
    {
     "name": "stdout",
     "output_type": "stream",
     "text": [
      "Reward\n",
      "   0  |   0  |   0  |   0  \n",
      "---------------------------\n",
      "   0  |  -1  |  -1  |  -1  \n",
      "---------------------------\n",
      "   0  |   0  |   0  |   0  \n",
      "---------------------------\n",
      "  -1  |  -1  |  -1  |   0  \n",
      "---------------------------\n",
      "   1  |   0  |   0  |   0  \n",
      "\n",
      "Policy\n",
      "   ↓  |   ←  |   ←  |   ←  \n",
      "---------------------------\n",
      "   ↓  |   ↓  |   ↓  |   ↓  \n",
      "---------------------------\n",
      "   →  |   →  |   →  |   ↓  \n",
      "---------------------------\n",
      "   ↓  |   ↓  |   ↓  |   ↓  \n",
      "---------------------------\n",
      "   →  |   ←  |   ←  |   ←  \n",
      "\n",
      "Values\n",
      " 0.00 | 0.00 | 0.00 | 0.00 \n",
      "---------------------------\n",
      " 0.00 | -0.99| -0.99| -0.98\n",
      "---------------------------\n",
      " 0.01 | 0.01 | 0.02 | 0.04 \n",
      "---------------------------\n",
      " -0.33| -0.67| -0.83| 0.08 \n",
      "---------------------------\n",
      " 1.33 | 0.67 | 0.33 | 0.17 \n",
      "\n"
     ]
    }
   ],
   "source": [
    "R2 = np.array([\n",
    "        [0, 0, 0, 0],\n",
    "        [0, -1, -1, -1],\n",
    "        [0, 0, 0, 0],\n",
    "        [-1, -1, -1, 0],\n",
    "        [1, 0, 0, 0]\n",
    "    ])\n",
    "\n",
    "print \"Reward\"\n",
    "draw_matrix(R2)\n",
    "print\n",
    "\n",
    "grid_world = GridWorld(R2)\n",
    "agent = DPAgent(grid_world, discount_factor=0.5)\n",
    "\n",
    "for k in range(50):\n",
    "    agent.learn()\n",
    "    \n",
    "draw_policy(agent, 5, 4)\n",
    "draw_values(agent, 5, 4)"
   ]
  },
  {
   "cell_type": "markdown",
   "metadata": {},
   "source": [
    "## Jack's car rental problem\n",
    "\n",
    "There are two locations for car rentals. At each cars can be rented and returned. The cars don't have to be returned at the location where they were rented.\n",
    "\n",
    "We want to move cars between the two locations, so that we maximize the number of cars that can be rented."
   ]
  },
  {
   "cell_type": "code",
   "execution_count": 11,
   "metadata": {
    "collapsed": false
   },
   "outputs": [],
   "source": [
    "from scipy.stats import poisson\n",
    "from itertools import product\n",
    "from collections import defaultdict\n",
    "\n",
    "class CarRental(Environment):\n",
    "    def __init__(self, max_cars, rent_profit, move_cost, average_requests, average_returns, max_lambda):\n",
    "        self.max_cars = max_cars\n",
    "        self.rent_profit = rent_profit\n",
    "        self.move_cost = move_cost\n",
    "        self.average_requests = average_requests\n",
    "        self.average_returns = average_returns\n",
    "        self.max_lambda = max_lambda\n",
    "        \n",
    "    def get_states(self):\n",
    "        car_range = range(0, self.max_cars + 1)\n",
    "        return list(product(car_range, car_range))\n",
    "    \n",
    "    def get_possible_actions(self, state):\n",
    "        \"\"\"\n",
    "        Returns the actions that can be taken from the given state\n",
    "        \"\"\"\n",
    "        cars_a, cars_b = state\n",
    "        return range(-cars_b, cars_a + 1)\n",
    "    \n",
    "    def get_state_actions(self, state, action):\n",
    "        result = defaultdict(int)\n",
    "\n",
    "        cars_a, cars_b = state        \n",
    "        cars_a = max(min(cars_a - action, self.max_cars), 0)\n",
    "        cars_b = max(min(cars_b + action, self.max_cars), 0)\n",
    "                        \n",
    "        for requested_a in range(0, self.max_lambda):\n",
    "            prob1 = poisson.pmf(requested_a, self.average_requests[0])\n",
    "            \n",
    "            for requested_b in range(0, self.max_lambda):\n",
    "                prob2 = poisson.pmf(requested_b, self.average_requests[1])\n",
    "                \n",
    "                rented_a = min(requested_a, cars_a)\n",
    "                rented_b = min(requested_b, cars_b)\n",
    "                reward = (rented_a + rented_b) * self.rent_profit\n",
    "                \n",
    "                for returned_a in range(0, self.max_lambda):\n",
    "                    prob3 = poisson.pmf(returned_a, self.average_returns[0])\n",
    "                    \n",
    "                    for returned_b in range(0, self.max_lambda):\n",
    "                        prob4 = poisson.pmf(returned_b, self.average_returns[1])\n",
    "                        prob = prob1 * prob2 * prob3 * prob4\n",
    "                        \n",
    "                        if cars_a < rented_a or cars_b < rented_b:\n",
    "                            print \"problem\"\n",
    "                            print cars_a, cars_b\n",
    "                            print rented_a, rented_b\n",
    "                            print requested_a, requested_b, returned_a, returned_b\n",
    "                            return []\n",
    "                        \n",
    "                        new_cars_a = min(cars_a + returned_a - rented_a, self.max_cars)\n",
    "                        new_cars_b = min(cars_b + returned_b - rented_b, self.max_cars)\n",
    "                        new_state = (new_cars_a, new_cars_b)\n",
    "                        \n",
    "                        result[(new_state, reward)] += prob\n",
    "                        \n",
    "        return [(prob, new_state, reward) for (new_state, reward), prob in result.items()]"
   ]
  },
  {
   "cell_type": "code",
   "execution_count": 12,
   "metadata": {
    "collapsed": false
   },
   "outputs": [],
   "source": [
    "def visualize_car_rental_policy(agent):\n",
    "    policy = agent.policy\n",
    "    max_n = agent.env.max_cars\n",
    "    \n",
    "    result = \"\"\n",
    "    \n",
    "    for i in reversed(range(max_n + 1)):\n",
    "        result += \" %d |\" % i\n",
    "        for j in range(max_n + 1):\n",
    "            result += \"%+4s\" % str(list(policy[(i, j)])[0])\n",
    "            \n",
    "        result += \"\\n\"\n",
    "        \n",
    "    result += \" \" * 4\n",
    "    for j in range(max_n + 1):\n",
    "        result += \"-\" * 4\n",
    "    \n",
    "    result += \"\\n\"\n",
    "    result += \" \" * 4\n",
    "    for j in range(max_n + 1):\n",
    "        result += \"%+4s\" % str(j)\n",
    "        \n",
    "\n",
    "    print \"Car Rental Policy\\n(y-axis location 1, x-axis location 2)\\n\"\n",
    "    print result"
   ]
  },
  {
   "cell_type": "markdown",
   "metadata": {},
   "source": [
    "Unfortunately, because of the poisson distributions, this problem takes pretty long to compute. Because of this, we use fewer cars than in the Sutton & Barto book."
   ]
  },
  {
   "cell_type": "code",
   "execution_count": 13,
   "metadata": {
    "collapsed": false
   },
   "outputs": [],
   "source": [
    "env = CarRental(\n",
    "    max_cars=3,\n",
    "    rent_profit=10,\n",
    "    move_cost=2,\n",
    "    average_requests=[1, 1],\n",
    "    average_returns=[0, 2],\n",
    "    max_lambda=5\n",
    ")"
   ]
  },
  {
   "cell_type": "code",
   "execution_count": 14,
   "metadata": {
    "collapsed": false
   },
   "outputs": [
    {
     "name": "stdout",
     "output_type": "stream",
     "text": [
      "Car Rental Policy\n",
      "(y-axis location 1, x-axis location 2)\n",
      "\n",
      " 3 |   1   1   0   0\n",
      " 2 |   1   0   0  -1\n",
      " 1 |   0   0  -1  -1\n",
      " 0 |   0  -1  -1  -2\n",
      "    ----------------\n",
      "       0   1   2   3\n"
     ]
    }
   ],
   "source": [
    "car_rental_agent = DPAgent(env, discount_factor=0.8)\n",
    "\n",
    "for _ in range(5):\n",
    "    car_rental_agent.learn()\n",
    "    \n",
    "visualize_car_rental_policy(car_rental_agent)"
   ]
  },
  {
   "cell_type": "markdown",
   "metadata": {},
   "source": [
    "## Gambler's problem\n",
    "\n",
    "A gambler can put a chosen amount of money on a bet with a winning probability of `p_win`. If the gambler wins, he gains as much money as his stake, otherwise he loses the stake.\n",
    "\n",
    "The gambler wins the entire game if he manages to get to $100. We want to find an optimal policy to do this."
   ]
  },
  {
   "cell_type": "code",
   "execution_count": 38,
   "metadata": {
    "collapsed": true
   },
   "outputs": [],
   "source": [
    "class GamblerProblem(Environment):\n",
    "    def __init__(self, goal, p_win):\n",
    "        self.goal = goal\n",
    "        self.p_win = p_win\n",
    "    \n",
    "    def get_states(self):\n",
    "        return range(self.goal + 1)\n",
    "    \n",
    "    def get_possible_actions(self, capital):\n",
    "        return range(min(capital, self.goal - capital) + 1)\n",
    "    \n",
    "    def get_state_actions(self, capital, stake):\n",
    "        if capital == 0:\n",
    "            return [(1, 0, 0)]\n",
    "        \n",
    "        if capital == self.goal:\n",
    "            return [(1, 0, 100)]\n",
    "        \n",
    "        if capital + stake == self.goal:\n",
    "            possible_reward = 1\n",
    "        else:\n",
    "            possible_reward = 0\n",
    "        \n",
    "        return [\n",
    "            (self.p_win, capital + stake, possible_reward),\n",
    "            (1 - self.p_win, capital - stake, 0)\n",
    "        ]"
   ]
  },
  {
   "cell_type": "code",
   "execution_count": 39,
   "metadata": {
    "collapsed": true
   },
   "outputs": [],
   "source": [
    "env = GamblerProblem(goal=100, p_win=0.4)\n",
    "\n",
    "gambling_agent = DPAgent(env, discount_factor=1)\n",
    "\n",
    "gambling_agent.learn(evaluate=10)\n",
    "gambling_agent.learn(evaluate=100)\n",
    "gambling_agent.learn(evaluate=500)"
   ]
  },
  {
   "cell_type": "markdown",
   "metadata": {},
   "source": [
    "Policy:"
   ]
  },
  {
   "cell_type": "code",
   "execution_count": 34,
   "metadata": {
    "collapsed": false,
    "scrolled": true
   },
   "outputs": [
    {
     "data": {
      "text/plain": [
       "{0: {0},\n",
       " 1: {0, 1},\n",
       " 2: {0, 2},\n",
       " 3: {0, 3},\n",
       " 4: {0, 4},\n",
       " 5: {4},\n",
       " 6: {5},\n",
       " 7: {0, 7},\n",
       " 8: {1},\n",
       " 9: {0, 9},\n",
       " 10: {3, 10},\n",
       " 11: {0, 2, 11},\n",
       " 12: {12},\n",
       " 13: {0, 13},\n",
       " 14: {0, 14},\n",
       " 15: {15},\n",
       " 16: {16},\n",
       " 17: {8},\n",
       " 18: {0, 18},\n",
       " 19: {6},\n",
       " 20: {20},\n",
       " 21: {0, 21},\n",
       " 22: {22},\n",
       " 23: {2, 23},\n",
       " 24: {0, 24},\n",
       " 25: {0, 25},\n",
       " 26: {0, 1, 26},\n",
       " 27: {0, 2, 27},\n",
       " 28: {3},\n",
       " 29: {4},\n",
       " 30: {5},\n",
       " 31: {31},\n",
       " 32: {7},\n",
       " 33: {8},\n",
       " 34: {16},\n",
       " 35: {0, 10, 35},\n",
       " 36: {0, 36},\n",
       " 37: {13},\n",
       " 38: {38},\n",
       " 39: {0, 39},\n",
       " 40: {0, 40},\n",
       " 41: {0, 41},\n",
       " 42: {8},\n",
       " 43: {7},\n",
       " 44: {6, 44},\n",
       " 45: {0, 5, 45},\n",
       " 46: {0, 4, 46},\n",
       " 47: {3},\n",
       " 48: {0, 48},\n",
       " 49: {1},\n",
       " 50: {0, 50},\n",
       " 51: {0, 1},\n",
       " 52: {0, 2},\n",
       " 53: {0, 3},\n",
       " 54: {0, 4},\n",
       " 55: {5},\n",
       " 56: {6},\n",
       " 57: {7},\n",
       " 58: {8},\n",
       " 59: {41},\n",
       " 60: {10},\n",
       " 61: {11},\n",
       " 62: {12, 38},\n",
       " 63: {0, 12, 13},\n",
       " 64: {14},\n",
       " 65: {0, 15},\n",
       " 66: {16},\n",
       " 67: {0, 8},\n",
       " 68: {32},\n",
       " 69: {0, 6},\n",
       " 70: {0, 5, 20, 30},\n",
       " 71: {0, 4},\n",
       " 72: {3},\n",
       " 73: {0, 2},\n",
       " 74: {1},\n",
       " 75: {0, 25},\n",
       " 76: {0, 1, 24},\n",
       " 77: {0, 23},\n",
       " 78: {3},\n",
       " 79: {21},\n",
       " 80: {0, 5},\n",
       " 81: {0, 6},\n",
       " 82: {7},\n",
       " 83: {8},\n",
       " 84: {9, 16},\n",
       " 85: {0, 10, 15},\n",
       " 86: {14},\n",
       " 87: {0, 12},\n",
       " 88: {0, 12},\n",
       " 89: {0, 11},\n",
       " 90: {0, 10},\n",
       " 91: {0, 9},\n",
       " 92: {0, 1, 8},\n",
       " 93: {0, 7},\n",
       " 94: {6},\n",
       " 95: {0, 5},\n",
       " 96: {0, 4},\n",
       " 97: {0, 2, 3},\n",
       " 98: {0, 2},\n",
       " 99: {0, 1},\n",
       " 100: {0}}"
      ]
     },
     "execution_count": 34,
     "metadata": {},
     "output_type": "execute_result"
    }
   ],
   "source": [
    "gambling_agent.policy"
   ]
  },
  {
   "cell_type": "markdown",
   "metadata": {},
   "source": [
    "The visualisation is a bit different than the one in the Sutton & Barto book. This is because it's not totally clear how to visualize the policy. For many states, there are multiple optimal actions. In the book, the visualisation chooses one action per state.\n",
    "\n",
    "This first visualisation only shows the action with the maximum stake:"
   ]
  },
  {
   "cell_type": "code",
   "execution_count": 16,
   "metadata": {
    "collapsed": true
   },
   "outputs": [],
   "source": [
    "%matplotlib inline"
   ]
  },
  {
   "cell_type": "code",
   "execution_count": 41,
   "metadata": {
    "collapsed": false,
    "scrolled": false
   },
   "outputs": [
    {
     "data": {
      "image/png": "[encoded data removed]",
      "text/plain": [
       "<matplotlib.figure.Figure at 0x104f50d90>"
      ]
     },
     "metadata": {},
     "output_type": "display_data"
    },
    {
     "data": {
      "image/png": "[encoded data removed]",
      "text/plain": [
       "<matplotlib.figure.Figure at 0x10552ae10>"
      ]
     },
     "metadata": {},
     "output_type": "display_data"
    }
   ],
   "source": [
    "data = [(capital, max(opts)) for capital, opts in gambling_agent.policy.items()]\n",
    "x, y = zip(*data)\n",
    "\n",
    "import matplotlib.pyplot as plt\n",
    "\n",
    "plt.scatter(x, y)\n",
    "plt.title(\"Policy (only the maximum stake action)\")\n",
    "plt.show()\n",
    "\n",
    "x, y = zip(*gambling_agent.values.items())\n",
    "plt.plot(x, y)\n",
    "plt.title(\"Value estimates\")\n",
    "plt.show()"
   ]
  },
  {
   "cell_type": "markdown",
   "metadata": {},
   "source": [
    "This visualisation shows all optimal actions:"
   ]
  },
  {
   "cell_type": "code",
   "execution_count": 40,
   "metadata": {
    "collapsed": false
   },
   "outputs": [
    {
     "data": {
      "image/png": "[encoded data removed]",
      "text/plain": [
       "<matplotlib.figure.Figure at 0x104f83990>"
      ]
     },
     "metadata": {},
     "output_type": "display_data"
    }
   ],
   "source": [
    "x = []\n",
    "y = []\n",
    "\n",
    "for a, bs in gambling_agent.policy.items():\n",
    "    for b in bs:\n",
    "        x.append(a)\n",
    "        y.append(b)\n",
    "\n",
    "plt.scatter(x, y)\n",
    "plt.title(\"Policy (all optimal actions)\")\n",
    "plt.show()"
   ]
  }
 ],
 "metadata": {
  "kernelspec": {
   "display_name": "Python 2",
   "language": "python",
   "name": "python2"
  },
  "language_info": {
   "codemirror_mode": {
    "name": "ipython",
    "version": 2
   },
   "file_extension": ".py",
   "mimetype": "text/x-python",
   "name": "python",
   "nbconvert_exporter": "python",
   "pygments_lexer": "ipython2",
   "version": "2.7.11"
  }
 },
 "nbformat": 4,
 "nbformat_minor": 0
}
